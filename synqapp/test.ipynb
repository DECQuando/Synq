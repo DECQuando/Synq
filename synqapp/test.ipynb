{
 "cells": [
  {
   "cell_type": "markdown",
   "source": [
    "# DBからデータ取得するためのテストコード"
   ],
   "metadata": {
    "collapsed": false
   }
  },
  {
   "cell_type": "markdown",
   "source": [
    "Jupyterでmodelsなどを使うには\n",
    "\n",
    "[Djangoのモデルなどをローカルスクリプトで実行する方法[jupyter][pycharm]](https://sleepless-se.net/2018/06/03/django%E3%81%AE%E3%83%A2%E3%83%87%E3%83%AB%E3%81%AA%E3%81%A9%E3%82%92%E3%83%AD%E3%83%BC%E3%82%AB%E3%83%AB%E3%82%B9%E3%82%AF%E3%83%AA%E3%83%97%E3%83%88%E3%81%A7%E5%AE%9F%E8%A1%8C%E3%81%99%E3%82%8B/)"
   ],
   "metadata": {
    "collapsed": false
   }
  },
  {
   "cell_type": "code",
   "execution_count": 1,
   "outputs": [],
   "source": [
    "import os, sys, django\n",
    "\n",
    "# sys.path.append('/path/to/project/')\n",
    "os.environ.setdefault('DJANGO_SETTINGS_MODULE', 'Synq.settings')  # DJANGO_SETTINGS_MODULEにプロジェクトのsettings.pyのを指定します。\n",
    "\n",
    "django.setup()"
   ],
   "metadata": {
    "collapsed": false
   }
  },
  {
   "cell_type": "code",
   "execution_count": 8,
   "outputs": [
    {
     "ename": "SynchronousOnlyOperation",
     "evalue": "You cannot call this from an async context - use a thread or sync_to_async.",
     "output_type": "error",
     "traceback": [
      "\u001B[0;31m---------------------------------------------------------------------------\u001B[0m",
      "\u001B[0;31mSynchronousOnlyOperation\u001B[0m                  Traceback (most recent call last)",
      "Cell \u001B[0;32mIn[8], line 2\u001B[0m\n\u001B[1;32m      1\u001B[0m \u001B[38;5;66;03m# Image.objects.filter(id=1)\u001B[39;00m\n\u001B[0;32m----> 2\u001B[0m a \u001B[38;5;241m=\u001B[39m \u001B[43mImage\u001B[49m\u001B[38;5;241;43m.\u001B[39;49m\u001B[43mobjects\u001B[49m\u001B[38;5;241;43m.\u001B[39;49m\u001B[43mall\u001B[49m\u001B[43m(\u001B[49m\u001B[43m)\u001B[49m\u001B[38;5;241;43m.\u001B[39;49m\u001B[43morder_by\u001B[49m\u001B[43m(\u001B[49m\u001B[38;5;124;43m'\u001B[39;49m\u001B[38;5;124;43mcreated_at\u001B[39;49m\u001B[38;5;124;43m'\u001B[39;49m\u001B[43m)\u001B[49m\u001B[38;5;241;43m.\u001B[39;49m\u001B[43mlast\u001B[49m\u001B[43m(\u001B[49m\u001B[43m)\u001B[49m\u001B[38;5;241m.\u001B[39mimage\u001B[38;5;241m.\u001B[39murl\n\u001B[1;32m      3\u001B[0m \u001B[38;5;66;03m# '/media/wx_freq_sEM3iX6.png'\u001B[39;00m\n",
      "File \u001B[0;32m~/Django/Synq/venv/lib/python3.9/site-packages/django/db/models/query.py:1055\u001B[0m, in \u001B[0;36mQuerySet.last\u001B[0;34m(self)\u001B[0m\n\u001B[1;32m   1053\u001B[0m \u001B[38;5;28;01mdef\u001B[39;00m \u001B[38;5;21mlast\u001B[39m(\u001B[38;5;28mself\u001B[39m):\n\u001B[1;32m   1054\u001B[0m \u001B[38;5;250m    \u001B[39m\u001B[38;5;124;03m\"\"\"Return the last object of a query or None if no match is found.\"\"\"\u001B[39;00m\n\u001B[0;32m-> 1055\u001B[0m     \u001B[38;5;28;01mfor\u001B[39;00m obj \u001B[38;5;129;01min\u001B[39;00m (\u001B[38;5;28mself\u001B[39m\u001B[38;5;241m.\u001B[39mreverse() \u001B[38;5;28;01mif\u001B[39;00m \u001B[38;5;28mself\u001B[39m\u001B[38;5;241m.\u001B[39mordered \u001B[38;5;28;01melse\u001B[39;00m \u001B[38;5;28mself\u001B[39m\u001B[38;5;241m.\u001B[39morder_by(\u001B[38;5;124m\"\u001B[39m\u001B[38;5;124m-pk\u001B[39m\u001B[38;5;124m\"\u001B[39m))[:\u001B[38;5;241m1\u001B[39m]:\n\u001B[1;32m   1056\u001B[0m         \u001B[38;5;28;01mreturn\u001B[39;00m obj\n",
      "File \u001B[0;32m~/Django/Synq/venv/lib/python3.9/site-packages/django/db/models/query.py:394\u001B[0m, in \u001B[0;36mQuerySet.__iter__\u001B[0;34m(self)\u001B[0m\n\u001B[1;32m    379\u001B[0m \u001B[38;5;28;01mdef\u001B[39;00m \u001B[38;5;21m__iter__\u001B[39m(\u001B[38;5;28mself\u001B[39m):\n\u001B[1;32m    380\u001B[0m \u001B[38;5;250m    \u001B[39m\u001B[38;5;124;03m\"\"\"\u001B[39;00m\n\u001B[1;32m    381\u001B[0m \u001B[38;5;124;03m    The queryset iterator protocol uses three nested iterators in the\u001B[39;00m\n\u001B[1;32m    382\u001B[0m \u001B[38;5;124;03m    default case:\u001B[39;00m\n\u001B[0;32m   (...)\u001B[0m\n\u001B[1;32m    392\u001B[0m \u001B[38;5;124;03m           - Responsible for turning the rows into model objects.\u001B[39;00m\n\u001B[1;32m    393\u001B[0m \u001B[38;5;124;03m    \"\"\"\u001B[39;00m\n\u001B[0;32m--> 394\u001B[0m     \u001B[38;5;28;43mself\u001B[39;49m\u001B[38;5;241;43m.\u001B[39;49m\u001B[43m_fetch_all\u001B[49m\u001B[43m(\u001B[49m\u001B[43m)\u001B[49m\n\u001B[1;32m    395\u001B[0m     \u001B[38;5;28;01mreturn\u001B[39;00m \u001B[38;5;28miter\u001B[39m(\u001B[38;5;28mself\u001B[39m\u001B[38;5;241m.\u001B[39m_result_cache)\n",
      "File \u001B[0;32m~/Django/Synq/venv/lib/python3.9/site-packages/django/db/models/query.py:1867\u001B[0m, in \u001B[0;36mQuerySet._fetch_all\u001B[0;34m(self)\u001B[0m\n\u001B[1;32m   1865\u001B[0m \u001B[38;5;28;01mdef\u001B[39;00m \u001B[38;5;21m_fetch_all\u001B[39m(\u001B[38;5;28mself\u001B[39m):\n\u001B[1;32m   1866\u001B[0m     \u001B[38;5;28;01mif\u001B[39;00m \u001B[38;5;28mself\u001B[39m\u001B[38;5;241m.\u001B[39m_result_cache \u001B[38;5;129;01mis\u001B[39;00m \u001B[38;5;28;01mNone\u001B[39;00m:\n\u001B[0;32m-> 1867\u001B[0m         \u001B[38;5;28mself\u001B[39m\u001B[38;5;241m.\u001B[39m_result_cache \u001B[38;5;241m=\u001B[39m \u001B[38;5;28;43mlist\u001B[39;49m\u001B[43m(\u001B[49m\u001B[38;5;28;43mself\u001B[39;49m\u001B[38;5;241;43m.\u001B[39;49m\u001B[43m_iterable_class\u001B[49m\u001B[43m(\u001B[49m\u001B[38;5;28;43mself\u001B[39;49m\u001B[43m)\u001B[49m\u001B[43m)\u001B[49m\n\u001B[1;32m   1868\u001B[0m     \u001B[38;5;28;01mif\u001B[39;00m \u001B[38;5;28mself\u001B[39m\u001B[38;5;241m.\u001B[39m_prefetch_related_lookups \u001B[38;5;129;01mand\u001B[39;00m \u001B[38;5;129;01mnot\u001B[39;00m \u001B[38;5;28mself\u001B[39m\u001B[38;5;241m.\u001B[39m_prefetch_done:\n\u001B[1;32m   1869\u001B[0m         \u001B[38;5;28mself\u001B[39m\u001B[38;5;241m.\u001B[39m_prefetch_related_objects()\n",
      "File \u001B[0;32m~/Django/Synq/venv/lib/python3.9/site-packages/django/db/models/query.py:87\u001B[0m, in \u001B[0;36mModelIterable.__iter__\u001B[0;34m(self)\u001B[0m\n\u001B[1;32m     84\u001B[0m compiler \u001B[38;5;241m=\u001B[39m queryset\u001B[38;5;241m.\u001B[39mquery\u001B[38;5;241m.\u001B[39mget_compiler(using\u001B[38;5;241m=\u001B[39mdb)\n\u001B[1;32m     85\u001B[0m \u001B[38;5;66;03m# Execute the query. This will also fill compiler.select, klass_info,\u001B[39;00m\n\u001B[1;32m     86\u001B[0m \u001B[38;5;66;03m# and annotations.\u001B[39;00m\n\u001B[0;32m---> 87\u001B[0m results \u001B[38;5;241m=\u001B[39m \u001B[43mcompiler\u001B[49m\u001B[38;5;241;43m.\u001B[39;49m\u001B[43mexecute_sql\u001B[49m\u001B[43m(\u001B[49m\n\u001B[1;32m     88\u001B[0m \u001B[43m    \u001B[49m\u001B[43mchunked_fetch\u001B[49m\u001B[38;5;241;43m=\u001B[39;49m\u001B[38;5;28;43mself\u001B[39;49m\u001B[38;5;241;43m.\u001B[39;49m\u001B[43mchunked_fetch\u001B[49m\u001B[43m,\u001B[49m\u001B[43m \u001B[49m\u001B[43mchunk_size\u001B[49m\u001B[38;5;241;43m=\u001B[39;49m\u001B[38;5;28;43mself\u001B[39;49m\u001B[38;5;241;43m.\u001B[39;49m\u001B[43mchunk_size\u001B[49m\n\u001B[1;32m     89\u001B[0m \u001B[43m\u001B[49m\u001B[43m)\u001B[49m\n\u001B[1;32m     90\u001B[0m select, klass_info, annotation_col_map \u001B[38;5;241m=\u001B[39m (\n\u001B[1;32m     91\u001B[0m     compiler\u001B[38;5;241m.\u001B[39mselect,\n\u001B[1;32m     92\u001B[0m     compiler\u001B[38;5;241m.\u001B[39mklass_info,\n\u001B[1;32m     93\u001B[0m     compiler\u001B[38;5;241m.\u001B[39mannotation_col_map,\n\u001B[1;32m     94\u001B[0m )\n\u001B[1;32m     95\u001B[0m model_cls \u001B[38;5;241m=\u001B[39m klass_info[\u001B[38;5;124m\"\u001B[39m\u001B[38;5;124mmodel\u001B[39m\u001B[38;5;124m\"\u001B[39m]\n",
      "File \u001B[0;32m~/Django/Synq/venv/lib/python3.9/site-packages/django/db/models/sql/compiler.py:1396\u001B[0m, in \u001B[0;36mSQLCompiler.execute_sql\u001B[0;34m(self, result_type, chunked_fetch, chunk_size)\u001B[0m\n\u001B[1;32m   1394\u001B[0m     cursor \u001B[38;5;241m=\u001B[39m \u001B[38;5;28mself\u001B[39m\u001B[38;5;241m.\u001B[39mconnection\u001B[38;5;241m.\u001B[39mchunked_cursor()\n\u001B[1;32m   1395\u001B[0m \u001B[38;5;28;01melse\u001B[39;00m:\n\u001B[0;32m-> 1396\u001B[0m     cursor \u001B[38;5;241m=\u001B[39m \u001B[38;5;28;43mself\u001B[39;49m\u001B[38;5;241;43m.\u001B[39;49m\u001B[43mconnection\u001B[49m\u001B[38;5;241;43m.\u001B[39;49m\u001B[43mcursor\u001B[49m\u001B[43m(\u001B[49m\u001B[43m)\u001B[49m\n\u001B[1;32m   1397\u001B[0m \u001B[38;5;28;01mtry\u001B[39;00m:\n\u001B[1;32m   1398\u001B[0m     cursor\u001B[38;5;241m.\u001B[39mexecute(sql, params)\n",
      "File \u001B[0;32m~/Django/Synq/venv/lib/python3.9/site-packages/django/utils/asyncio.py:24\u001B[0m, in \u001B[0;36masync_unsafe.<locals>.decorator.<locals>.inner\u001B[0;34m(*args, **kwargs)\u001B[0m\n\u001B[1;32m     22\u001B[0m \u001B[38;5;28;01melse\u001B[39;00m:\n\u001B[1;32m     23\u001B[0m     \u001B[38;5;28;01mif\u001B[39;00m \u001B[38;5;129;01mnot\u001B[39;00m os\u001B[38;5;241m.\u001B[39menviron\u001B[38;5;241m.\u001B[39mget(\u001B[38;5;124m\"\u001B[39m\u001B[38;5;124mDJANGO_ALLOW_ASYNC_UNSAFE\u001B[39m\u001B[38;5;124m\"\u001B[39m):\n\u001B[0;32m---> 24\u001B[0m         \u001B[38;5;28;01mraise\u001B[39;00m SynchronousOnlyOperation(message)\n\u001B[1;32m     25\u001B[0m \u001B[38;5;66;03m# Pass onward.\u001B[39;00m\n\u001B[1;32m     26\u001B[0m \u001B[38;5;28;01mreturn\u001B[39;00m func(\u001B[38;5;241m*\u001B[39margs, \u001B[38;5;241m*\u001B[39m\u001B[38;5;241m*\u001B[39mkwargs)\n",
      "\u001B[0;31mSynchronousOnlyOperation\u001B[0m: You cannot call this from an async context - use a thread or sync_to_async."
     ]
    }
   ],
   "source": [
    "from django.db import connection\n",
    "from synqapp.models import Image\n",
    "from django.conf import settings\n",
    "import cv2\n",
    "import imgsim\n",
    "\n",
    "# Image.objects.filter(id=1)\n",
    "a = Image.objects.all().order_by('created_at').last().image.url\n",
    "# '/media/wx_freq_sEM3iX6.png'\n",
    "\n",
    "image_path1 = str(settings.BASE_DIR) + a\n",
    "img1 = cv2.imread(image_path1)\n",
    "\n",
    "vtr = imgsim.Vectorizer()\n",
    "vec0 = vtr.vectorize(img1)\n"
   ],
   "metadata": {
    "collapsed": false
   }
  },
  {
   "cell_type": "markdown",
   "source": [
    "### latest"
   ],
   "metadata": {
    "collapsed": false
   }
  },
  {
   "cell_type": "code",
   "execution_count": null,
   "outputs": [],
   "source": [
    "Image.objects.latest('created_at')"
   ],
   "metadata": {
    "collapsed": false
   }
  },
  {
   "cell_type": "code",
   "execution_count": null,
   "outputs": [],
   "source": [],
   "metadata": {
    "collapsed": false
   }
  }
 ],
 "metadata": {
  "kernelspec": {
   "display_name": "Python 3",
   "language": "python",
   "name": "python3"
  },
  "language_info": {
   "codemirror_mode": {
    "name": "ipython",
    "version": 2
   },
   "file_extension": ".py",
   "mimetype": "text/x-python",
   "name": "python",
   "nbconvert_exporter": "python",
   "pygments_lexer": "ipython2",
   "version": "2.7.6"
  }
 },
 "nbformat": 4,
 "nbformat_minor": 0
}
